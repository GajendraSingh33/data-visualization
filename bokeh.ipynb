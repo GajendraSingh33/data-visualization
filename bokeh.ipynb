{
 "cells": [
  {
   "cell_type": "code",
   "execution_count": 1,
   "id": "c0e2e918",
   "metadata": {},
   "outputs": [
    {
     "name": "stderr",
     "output_type": "stream",
     "text": [
      "BokehUserWarning: ColumnDataSource's columns must be of the same length. Current lengths: ('hatch_color', 256), ('x', 244), ('y', 244)\n",
      "BokehUserWarning: ColumnDataSource's columns must be of the same length. Current lengths: ('fill_color', 256), ('hatch_color', 256), ('x', 244), ('y', 244)\n",
      "BokehUserWarning: ColumnDataSource's columns must be of the same length. Current lengths: ('fill_color', 256), ('hatch_color', 256), ('line_color', 256), ('x', 244), ('y', 244)\n"
     ]
    }
   ],
   "source": [
    "# scatter plot using bokeh\n",
    "\n",
    "# importing the modules\n",
    "from bokeh.plotting import figure, output_file, show\n",
    "from bokeh.palettes import magma\n",
    "import pandas as pd\n",
    "\n",
    "\n",
    "# instantiating the figure object\n",
    "graph = figure(title = \"Bokeh Scatter Graph\")\n",
    "\n",
    "# reading the database\n",
    "data = pd.read_csv(\"tips.csv\")\n",
    "\n",
    "color = magma(256)\n",
    "\n",
    "# plotting the graph\n",
    "graph.scatter(data['total_bill'], data['tip'], color=color)\n",
    "\n",
    "# displaying the model\n",
    "show(graph)"
   ]
  },
  {
   "cell_type": "code",
   "execution_count": null,
   "id": "634fae6f",
   "metadata": {},
   "outputs": [
    {
     "name": "stderr",
     "output_type": "stream",
     "text": [
      "BokehUserWarning: ColumnDataSource's columns must be of the same length. Current lengths: ('x', 123), ('y', 244)\n"
     ]
    }
   ],
   "source": [
    "# line chart using bokeh\n",
    "\n",
    "# importing the modules\n",
    "from bokeh.plotting import figure, output_file, show\n",
    "import pandas as pd\n",
    "\n",
    "\n",
    "# instantiating the figure object\n",
    "graph = figure(title = \"Bokeh line Chart\")\n",
    "\n",
    "# reading the database\n",
    "data = pd.read_csv(\"tips.csv\")\n",
    "\n",
    "# Count of each unique value of\n",
    "# tip column\n",
    "df = data['tip'].value_counts()\n",
    "\n",
    "# plotting the graph\n",
    "graph.line(df, data['tip'])\n",
    "\n",
    "# displaying the model\n",
    "show(graph)"
   ]
  },
  {
   "cell_type": "code",
   "execution_count": null,
   "id": "ddb7923f",
   "metadata": {},
   "outputs": [],
   "source": [
    "# bar chart using bokeh\n",
    "\n",
    "# importing the modules\n",
    "from bokeh.plotting import figure, output_file, show\n",
    "import pandas as pd\n",
    "\n",
    "\n",
    "# instantiating the figure object\n",
    "graph = figure(title = \"Bokeh Bar Chart\")\n",
    "\n",
    "# reading the database\n",
    "data = pd.read_csv(\"tips.csv\")\n",
    "\n",
    "# plotting the graph\n",
    "graph.vbar(data['total_bill'], top=data['tip'])\n",
    "\n",
    "# displaying the model\n",
    "show(graph)"
   ]
  },
  {
   "cell_type": "code",
   "execution_count": null,
   "id": "f5408556",
   "metadata": {},
   "outputs": [],
   "source": [
    "# Interactive Data Visualization of bar chart using bokeh\n",
    "\n",
    "# importing the modules\n",
    "from bokeh.plotting import figure, output_file, show\n",
    "import pandas as pd\n",
    "\n",
    "\n",
    "# instantiating the figure object\n",
    "graph = figure(title = \"Bokeh Bar Chart\")\n",
    "\n",
    "# reading the database\n",
    "data = pd.read_csv(\"tips.csv\")\n",
    "\n",
    "# plotting the graph\n",
    "graph.vbar(data['total_bill'], top=data['tip'], \n",
    "           legend_label = \"Bill VS Tips\", color='green')\n",
    "\n",
    "graph.vbar(data['tip'], top=data['size'], \n",
    "           legend_label = \"Tips VS Size\", color='red')\n",
    "\n",
    "graph.legend.click_policy = \"hide\"\n",
    "\n",
    "# displaying the model\n",
    "show(graph)"
   ]
  },
  {
   "cell_type": "code",
   "execution_count": null,
   "id": "96914796",
   "metadata": {},
   "outputs": [],
   "source": [
    "\n",
    "# Adding Widgets to bokeh bar chart (e.g : slider, dropdown, Buttons)\n",
    "\n",
    "from bokeh.io import show\n",
    "from bokeh.models import Button, CheckboxGroup, RadioGroup, CustomJS\n",
    "from bokeh.layouts import column\n",
    "\n",
    "# Button widget\n",
    "button = Button(label=\"GFG\")\n",
    "button.js_on_click(CustomJS(code=\"\"\"\n",
    "    console.log('button: click!', this.toString())\n",
    "\"\"\"))\n",
    "\n",
    "# Labels for checkbox and radio buttons\n",
    "L = [\"First\", \"Second\", \"Third\"]\n",
    "\n",
    "# CheckboxGroup\n",
    "checkbox_group = CheckboxGroup(labels=L, active=[0, 2])\n",
    "checkbox_group.js_on_change(\"active\", CustomJS(code=\"\"\"\n",
    "    console.log('checkbox_group: active=' + this.active, this.toString())\n",
    "\"\"\"))\n",
    "\n",
    "# RadioGroup\n",
    "radio_group = RadioGroup(labels=L, active=1)\n",
    "radio_group.js_on_change(\"active\", CustomJS(code=\"\"\"\n",
    "    console.log('radio_group: active=' + this.active, this.toString())\n",
    "\"\"\"))\n",
    "\n",
    "# Show all widgets together\n",
    "show(column(button, checkbox_group, radio_group))\n"
   ]
  },
  {
   "cell_type": "code",
   "execution_count": 13,
   "id": "780dd379",
   "metadata": {},
   "outputs": [],
   "source": [
    "# bokeh bar chart with slider\n",
    "# Sliders: Adds a slider to the plot. It also needs a custom JavaScript function.\n",
    "\n",
    "from bokeh.io import show\n",
    "from bokeh.models import CustomJS, Slider\n",
    "\n",
    "slider = Slider(start=1, end=20, value=1, step=2, title=\"Slider\")\n",
    "\n",
    "slider.js_on_change(\"value\", CustomJS(code=\"\"\"\n",
    "    console.log('slider: value=' + this.value, this.toString())\n",
    "\"\"\"))\n",
    "\n",
    "show(slider)\n"
   ]
  }
 ],
 "metadata": {
  "kernelspec": {
   "display_name": ".venv",
   "language": "python",
   "name": "python3"
  },
  "language_info": {
   "codemirror_mode": {
    "name": "ipython",
    "version": 3
   },
   "file_extension": ".py",
   "mimetype": "text/x-python",
   "name": "python",
   "nbconvert_exporter": "python",
   "pygments_lexer": "ipython3",
   "version": "3.13.2"
  }
 },
 "nbformat": 4,
 "nbformat_minor": 5
}
